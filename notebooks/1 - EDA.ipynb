{
 "cells": [
  {
   "cell_type": "markdown",
   "metadata": {},
   "source": [
    "\n",
    "- The os module has a perfect method to list files in a directory.\n",
    "- Pandas json normalize could work here but is not necessary to convert the JSON data to a dataframe.\n",
    "- You may need a nested for-loop to access each sale!\n",
    "- We've put a lot of time into creating the structure of this repository, and it's a good example for future projects.  In the file functions_variables.py, there is an example function that you can import and use.  If you have any variables, functions or classes that you want to make, they can be put in the functions_variables.py file and imported into a notebook.  Note that only .py files can be imported into a notebook. If you want to import everything from a .py file, you can use the following:\n",
    "```python\n",
    "from functions_variables import *\n",
    "```\n",
    "If you just import functions_variables, then each object from the file will need to be prepended with \"functions_variables\"\\\n",
    "Using this .py file will keep your notebooks very organized and make it easier to reuse code between notebooks."
   ]
  },
  {
   "cell_type": "code",
   "execution_count": 12,
   "metadata": {},
   "outputs": [],
   "source": [
    "# (this is not an exhaustive list of libraries)\n",
    "import pandas as pd\n",
    "import numpy as np\n",
    "import os\n",
    "import json\n",
    "from pprint import pprint\n",
    "from functions_variables import encode_tags"
   ]
  },
  {
   "cell_type": "markdown",
   "metadata": {},
   "source": [
    "## Data Importing"
   ]
  },
  {
   "cell_type": "code",
   "execution_count": 66,
   "metadata": {},
   "outputs": [
    {
     "name": "stdout",
     "output_type": "stream",
     "text": [
      "Current notebook path: c:\\Users\\harol\\OneDrive\\Desktop\\AI_and_ML_and_Quant_Finance\\LightHouse_Labs\\DS_Midterm_Project\\notebooks\n"
     ]
    }
   ],
   "source": [
    "\n",
    "print(\"Current notebook path:\", os.getcwd())\n",
    "\n",
    "file_name = 'AK_Juneau_0.json'  \n",
    "data_dir = '../data/'\n",
    "file_path = os.path.join(data_dir, file_name)\n",
    "\n",
    "# Load  JSON\n",
    "with open(file_path, 'r') as f:\n",
    "    data_sample = json.load(f)\n",
    "\n",
    "\n",
    "# load one file first to see what type of data you're dealing with and what attributes it has\n",
    "\n",
    "\n",
    "\n",
    "\n",
    "#pprint(data_sample)\n",
    "# Inspect structure\n",
    "#pprint(data_sample.keys())\n",
    "#pprint(data_sample['data'].keys())\n",
    "#pprint(data_sample['data']['results'][0])  # first sale record\n",
    "\n",
    "#sample_sales = data_sample['data']['results']['branding']['type'], data_sample['data']['results']['description']\n",
    "#df_sample = pd.json_normalize(sample_sales)\n",
    "\n",
    "#df_sample.info()\n",
    "#df_sample.head(3)"
   ]
  },
  {
   "cell_type": "markdown",
   "metadata": {},
   "source": [
    "# EDA"
   ]
  },
  {
   "cell_type": "code",
   "execution_count": 67,
   "metadata": {},
   "outputs": [
    {
     "name": "stdout",
     "output_type": "stream",
     "text": [
      "EXP Realty LLC - Southeast Alaska Office {'year_built': 1963, 'baths_3qtr': None, 'sold_date': '2023-09-18', 'sold_price': None, 'baths_full': 2, 'name': None, 'baths_half': None, 'lot_sqft': 10454, 'sqft': 1821, 'baths': 2, 'sub_type': None, 'baths_1qtr': None, 'garage': 1, 'stories': None, 'beds': 3, 'type': 'single_family'} {'is_new_construction': None, 'is_for_rent': None, 'is_subdivision': None, 'is_contingent': None, 'is_price_reduced': False, 'is_pending': None, 'is_foreclosure': None, 'is_plan': None, 'is_coming_soon': None, 'is_new_listing': False}\n"
     ]
    }
   ],
   "source": [
    "first_sale = data_sample.get(\"data\", {}).get(\"results\", [])[0]\n",
    "\n",
    "#branding_type = first_sale.get(\"branding\", []).get(\"type\")\n",
    "branding_type = first_sale.get(\"branding\", [])[0]\n",
    "property_name = branding_type.get(\"name\", {})\n",
    "property_type = branding_type.get(\"type\", {})\n",
    "property_description = first_sale.get(\"description\", {})\n",
    "property_flags = first_sale.get(\"flags\", {})\n",
    "price_reduced_amount = first_sale.get(\"price_reduced_amount\", {})\n",
    "property_id = first_sale.get(\"property_id\", {})\n",
    "list_price = first_sale.get(\"list_price\", {})\n",
    "listing_id = first_sale.get(\"listing_id\", {})\n",
    "address_details = first_sale.get(\"location\", {}).get(\"address\", {})\n",
    "#description = first_sale.get(\"description\")\n",
    "\n",
    "print(property_name, property_type, property_description, property_flags)\n"
   ]
  },
  {
   "cell_type": "code",
   "execution_count": 68,
   "metadata": {},
   "outputs": [
    {
     "name": "stdout",
     "output_type": "stream",
     "text": [
      "✅ Finished! Saved to data/processed/property_listings_flat.csv\n"
     ]
    }
   ],
   "source": [
    "\n",
    "data_dir = r\"c:\\Users\\harol\\OneDrive\\Desktop\\AI_and_ML_and_Quant_Finance\\LightHouse_Labs\\DS_Midterm_Project\\data\"  \n",
    "all_records = []\n",
    "\n",
    "# Loop through JSON files\n",
    "for file in os.listdir(data_dir):\n",
    "    if file.endswith(\".json\"):\n",
    "        with open(os.path.join(data_dir, file), \"r\") as f:\n",
    "            try:\n",
    "                data = json.load(f)\n",
    "                results = data.get(\"data\", {}).get(\"results\", [])\n",
    "                \n",
    "                for sale in results:\n",
    "                    branding = sale.get(\"branding\", [{}])[0]\n",
    "                    location = sale.get(\"location\", {}).get(\"address\", {})\n",
    "\n",
    "                    record = {\n",
    "                        \"property_name\": branding.get(\"name\"),\n",
    "                        \"property_type\": branding.get(\"type\"),\n",
    "                        \"baths\": sale.get(\"description\").get(\"baths\"),\n",
    "                        \"baths_1qtr\": sale.get(\"description\").get(\"baths_1qtr\"),\n",
    "                        \"baths_3qtr\": sale.get(\"description\").get(\"baths_3qtr\"),\n",
    "                        \"baths_full\": sale.get(\"description\").get(\"baths_full\"),\n",
    "                        \"baths_half\": sale.get(\"description\").get(\"baths_half\"),\n",
    "                        \"beds\": sale.get(\"description\").get(\"beds\"),\n",
    "                        \"garage\": sale.get(\"description\").get(\"garage\"),\n",
    "                        \"lot_sqft\": sale.get(\"description\").get(\"lot_sqft\"),\n",
    "                        \"name\": sale.get(\"description\").get(\"name\"),\n",
    "                        \"sold_date\": sale.get(\"description\").get(\"sold_date\"),\n",
    "                        \"sold_price\": sale.get(\"description\").get(\"sold_price\"),\n",
    "                        \"sqft\": sale.get(\"description\").get(\"sqft\"),\n",
    "                        \"stories\": sale.get(\"description\").get(\"stories\"),\n",
    "                        \"sub_type\": sale.get(\"description\").get(\"sub_type\"),\n",
    "                        \"type\": sale.get(\"description\").get(\"type\"),\n",
    "                        \"year_built\": sale.get(\"description\").get(\"year_built\"),\n",
    "                        \"is_foreclosure\": sale.get(\"flags\").get(\"is_foreclosure\"),\n",
    "                        \"is_price_reduced\": sale.get(\"flags\").get(\"is_price_reduced\"),\n",
    "                        \"is_new_listing\": sale.get(\"flags\").get(\"is_new_listing\"),\n",
    "                        \"is_new_construction\": sale.get(\"flags\").get(\"is_new_construction\"),\n",
    "                        \"price_reduced_amount\": sale.get(\"price_reduced_amount\"),\n",
    "                        \"property_id\": sale.get(\"property_id\"),\n",
    "                        \"list_price\": sale.get(\"list_price\"),\n",
    "                        \"listing_id\": sale.get(\"listing_id\"),\n",
    "                        \"street_address\": location.get(\"line\"),\n",
    "                        \"city\": location.get(\"city\"),\n",
    "                        \"state\": location.get(\"state_code\"),\n",
    "                        \"postal_code\": location.get(\"postal_code\"),\n",
    "                        \"country\": location.get(\"country\")\n",
    "                    }\n",
    "\n",
    "                    all_records.append(record)\n",
    "\n",
    "            except Exception as e:\n",
    "                print(f\"Error loading {file}: {e}\")\n",
    "\n",
    "# Convert to DataFrame\n",
    "df = pd.DataFrame(all_records)\n",
    "\n",
    "# Save to CSV\n",
    "os.makedirs(\"../data/processed\", exist_ok=True)\n",
    "df.to_csv(\"../data/processed/property_listings_flat.csv\", index=False)\n",
    "\n",
    "print(\"✅ Finished! Saved to data/processed/property_listings_flat.csv\")\n"
   ]
  },
  {
   "cell_type": "code",
   "execution_count": 72,
   "metadata": {},
   "outputs": [
    {
     "name": "stdout",
     "output_type": "stream",
     "text": [
      "<class 'pandas.core.frame.DataFrame'>\n",
      "RangeIndex: 8159 entries, 0 to 8158\n",
      "Data columns (total 31 columns):\n",
      " #   Column                Non-Null Count  Dtype  \n",
      "---  ------                --------------  -----  \n",
      " 0   property_name         7725 non-null   object \n",
      " 1   property_type         8159 non-null   object \n",
      " 2   baths                 7980 non-null   float64\n",
      " 3   baths_1qtr            0 non-null      float64\n",
      " 4   baths_3qtr            566 non-null    float64\n",
      " 5   baths_full            7311 non-null   float64\n",
      " 6   baths_half            2281 non-null   float64\n",
      " 7   beds                  7504 non-null   float64\n",
      " 8   garage                4448 non-null   float64\n",
      " 9   lot_sqft              6991 non-null   float64\n",
      " 10  name                  0 non-null      float64\n",
      " 11  sold_date             8159 non-null   object \n",
      " 12  sold_price            6716 non-null   float64\n",
      " 13  sqft                  7323 non-null   float64\n",
      " 14  stories               6260 non-null   float64\n",
      " 15  sub_type              1427 non-null   object \n",
      " 16  type                  8125 non-null   object \n",
      " 17  year_built            7316 non-null   float64\n",
      " 18  is_foreclosure        42 non-null     object \n",
      " 19  is_price_reduced      2484 non-null   object \n",
      " 20  is_new_listing        7752 non-null   object \n",
      " 21  is_new_construction   0 non-null      float64\n",
      " 22  price_reduced_amount  2484 non-null   float64\n",
      " 23  property_id           8159 non-null   int64  \n",
      " 24  list_price            7721 non-null   float64\n",
      " 25  listing_id            7752 non-null   float64\n",
      " 26  street_address        8144 non-null   object \n",
      " 27  city                  8154 non-null   object \n",
      " 28  state                 8159 non-null   object \n",
      " 29  postal_code           8159 non-null   int64  \n",
      " 30  country               0 non-null      float64\n",
      "dtypes: float64(18), int64(2), object(11)\n",
      "memory usage: 1.9+ MB\n"
     ]
    },
    {
     "data": {
      "text/plain": [
       "Index(['property_name', 'property_type', 'baths', 'baths_1qtr', 'baths_3qtr',\n",
       "       'baths_full', 'baths_half', 'beds', 'garage', 'lot_sqft', 'name',\n",
       "       'sold_date', 'sold_price', 'sqft', 'stories', 'sub_type', 'type',\n",
       "       'year_built', 'is_foreclosure', 'is_price_reduced', 'is_new_listing',\n",
       "       'is_new_construction', 'price_reduced_amount', 'property_id',\n",
       "       'list_price', 'listing_id', 'street_address', 'city', 'state',\n",
       "       'postal_code', 'country'],\n",
       "      dtype='object')"
      ]
     },
     "execution_count": 72,
     "metadata": {},
     "output_type": "execute_result"
    }
   ],
   "source": [
    "df = pd.read_csv(r\"c:\\Users\\harol\\OneDrive\\Desktop\\AI_and_ML_and_Quant_Finance\\LightHouse_Labs\\DS_Midterm_Project\\data\\processed\\property_listings_flat.csv\")\n",
    "df.head()\n",
    "df.describe()\n",
    "df.info()\n",
    "df.columns"
   ]
  },
  {
   "cell_type": "code",
   "execution_count": null,
   "metadata": {},
   "outputs": [],
   "source": []
  },
  {
   "cell_type": "markdown",
   "metadata": {},
   "source": [
    "## Data Cleaning and Wrangling"
   ]
  },
  {
   "cell_type": "markdown",
   "metadata": {},
   "source": [
    "At this point, ensure that you have all sales in a dataframe.\n",
    "- Take a quick look at your data (i.e. `.info()`, `.describe()`) - what do you see?\n",
    "- Is each cell one value, or do some cells have lists?\n",
    "- What are the data types of each column?\n",
    "- Some sales may not actually include the sale price (target).  These rows should be dropped.\n",
    "- There are a lot of NA/None values.  Should these be dropped or replaced with something?\n",
    "    - You can drop rows or use various methods to fills NA's - use your best judgement for each column \n",
    "    - i.e. for some columns (like Garage), NA probably just means no Garage, so 0\n",
    "- Drop columns that aren't needed\n",
    "    - Don't keep the list price because it will be too close to the sale price. Assume we want to predict the price of houses not yet listed"
   ]
  },
  {
   "cell_type": "code",
   "execution_count": null,
   "metadata": {},
   "outputs": [],
   "source": [
    "# load and concatenate data here\n",
    "# drop or replace values as necessary"
   ]
  },
  {
   "cell_type": "markdown",
   "metadata": {},
   "source": [
    "### Dealing with Tags"
   ]
  },
  {
   "cell_type": "markdown",
   "metadata": {},
   "source": [
    "Consider the fact that with tags, there are a lot of categorical variables.\n",
    "- How many columns would we have if we OHE tags, city and state?\n",
    "- Perhaps we can get rid of tags that have a low frequency."
   ]
  },
  {
   "cell_type": "code",
   "execution_count": null,
   "metadata": {},
   "outputs": [],
   "source": [
    "# OHE categorical variables/ tags here\n",
    "# tags will have to be done manually"
   ]
  },
  {
   "cell_type": "markdown",
   "metadata": {},
   "source": [
    "### Dealing with Cities"
   ]
  },
  {
   "cell_type": "markdown",
   "metadata": {},
   "source": [
    "- Sales will vary drastically between cities and states.  Is there a way to keep information about which city it is without OHE?\n",
    "- Could we label encode or ordinal encode?  Yes, but this may have undesirable effects, giving nominal data ordinal values.\n",
    "- What we can do is use our training data to encode the mean sale price by city as a feature (a.k.a. Target Encoding)\n",
    "    - We can do this as long as we ONLY use the training data - we're using the available data to give us a 'starting guess' of the price for each city, without needing to encode city explicitly\n",
    "- If you replace cities or states with numerical values (like the mean price), make sure that the data is split so that we don't leak data into the training selection. This is a great time to train test split. Compute on the training data, and join these values to the test data\n",
    "- Note that you *may* have cities in the test set that are not in the training set. You don't want these to be NA, so maybe you can fill them with the overall mean"
   ]
  },
  {
   "cell_type": "code",
   "execution_count": null,
   "metadata": {},
   "outputs": [],
   "source": [
    "# perform train test split here\n",
    "# do something with state and city"
   ]
  },
  {
   "cell_type": "markdown",
   "metadata": {},
   "source": [
    "## Extra Data - STRETCH\n",
    "\n",
    "> This doesn't need to be part of your Minimum Viable Product (MVP). We recommend you write a functional, basic pipeline first, then circle back and join new data if you have time\n",
    "\n",
    "> If you do this, try to write your downstream steps in a way it will still work on a dataframe with different features!\n",
    "\n",
    "- You're not limited to just using the data provided to you. Think/ do some research about other features that might be useful to predict housing prices. \n",
    "- Can you import and join this data? Make sure you do any necessary preprocessing and make sure it is joined correctly.\n",
    "- Example suggestion: could mortgage interest rates in the year of the listing affect the price? "
   ]
  },
  {
   "cell_type": "code",
   "execution_count": null,
   "metadata": {},
   "outputs": [],
   "source": [
    "# import, join and preprocess new data here"
   ]
  },
  {
   "cell_type": "markdown",
   "metadata": {},
   "source": [
    "## EDA/ Visualization\n",
    "\n",
    "Remember all of the EDA that you've been learning about?  Now is a perfect time for it!\n",
    "- Look at distributions of numerical variables to see the shape of the data and detect outliers.    \n",
    "    - Consider transforming very skewed variables\n",
    "- Scatterplots of a numerical variable and the target go a long way to show correlations.\n",
    "- A heatmap will help detect highly correlated features, and we don't want these.\n",
    "    - You may have too many features to do this, in which case you can simply compute the most correlated feature-pairs and list them\n",
    "- Is there any overlap in any of the features? (redundant information, like number of this or that room...)"
   ]
  },
  {
   "cell_type": "code",
   "execution_count": null,
   "metadata": {},
   "outputs": [],
   "source": [
    "# perform EDA here"
   ]
  },
  {
   "cell_type": "markdown",
   "metadata": {},
   "source": [
    "## Scaling and Finishing Up"
   ]
  },
  {
   "cell_type": "markdown",
   "metadata": {},
   "source": [
    "Now is a great time to scale the data and save it once it's preprocessed.\n",
    "- You can save it in your data folder, but you may want to make a new `processed/` subfolder to keep it organized"
   ]
  },
  {
   "cell_type": "code",
   "execution_count": null,
   "metadata": {},
   "outputs": [],
   "source": []
  }
 ],
 "metadata": {
  "kernelspec": {
   "display_name": "base",
   "language": "python",
   "name": "python3"
  },
  "language_info": {
   "codemirror_mode": {
    "name": "ipython",
    "version": 3
   },
   "file_extension": ".py",
   "mimetype": "text/x-python",
   "name": "python",
   "nbconvert_exporter": "python",
   "pygments_lexer": "ipython3",
   "version": "3.12.7"
  }
 },
 "nbformat": 4,
 "nbformat_minor": 2
}
