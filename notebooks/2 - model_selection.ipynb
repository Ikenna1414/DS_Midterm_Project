{
 "cells": [
  {
   "cell_type": "markdown",
   "metadata": {},
   "source": [
    "## Model Selection\n",
    "\n",
    "This notebook should include preliminary and baseline modeling.\n",
    "- Try as many different models as possible.\n",
    "- Don't worry about hyperparameter tuning or cross validation here.\n",
    "- Ideas include:\n",
    "    - linear regression\n",
    "    - support vector machines\n",
    "    - random forest\n",
    "    - xgboost"
   ]
  },
  {
   "cell_type": "code",
   "execution_count": 124,
   "metadata": {},
   "outputs": [],
   "source": [
    "import pandas as pd\n",
    "from sklearn.linear_model import LinearRegression\n",
    "from sklearn.svm import SVR\n",
    "from sklearn.ensemble import RandomForestRegressor\n",
    "from xgboost import XGBRegressor\n",
    "from sklearn.metrics import mean_squared_error, mean_absolute_error, r2_score\n",
    "import numpy as np\n"
   ]
  },
  {
   "cell_type": "code",
   "execution_count": 125,
   "metadata": {},
   "outputs": [],
   "source": [
    "X_train = pd.read_csv(\"../data/processed/X_train_scaled.csv\")\n",
    "X_test = pd.read_csv(\"../data/processed/X_test_scaled.csv\")\n",
    "y_train = pd.read_csv(\"../data/processed/y_train.csv\").squeeze()  # Convert to Series\n",
    "y_test = pd.read_csv(\"../data/processed/y_test.csv\").squeeze()\n"
   ]
  },
  {
   "cell_type": "code",
   "execution_count": 126,
   "metadata": {},
   "outputs": [],
   "source": [
    "columns_to_drop = [\"is_foreclosure\", \"is_price_reduced\", \"is_new_listing\", \"sub_type\"]\n",
    "X_train = X_train.drop(columns = columns_to_drop)\n",
    "X_test = X_test.drop(columns = columns_to_drop)\n",
    "\n",
    "# Create dummy variables from the \"type\" column\n",
    "type_dummies = pd.get_dummies(X_train[\"type\"], prefix=\"type\", drop_first=True)\n",
    "\n",
    "# Drop the original \"type\" column and concatenate the dummy variables\n",
    "X_train = pd.concat([X_train.drop(\"type\", axis=1), type_dummies], axis=1)\n",
    "X_test = pd.concat([X_test.drop(\"type\", axis=1), type_dummies], axis=1)\n",
    "\n",
    "columns_with_nans = [\"stories\", \"year_built\", \"latitude\", \"longitude\"]\n",
    "\n",
    "for col in columns_with_nans:\n",
    "    X_train[col] = X_train[col].fillna(X_train[col].median())\n",
    "\n",
    "for col in columns_with_nans:\n",
    "    X_test[col] = X_test[col].fillna(X_test[col].median())\n",
    "\n",
    "X_train = X_train.drop(columns=[\"list_date\"])\n",
    "X_train = X_train.dropna(subset=[\"city_encoded\"])\n",
    "\n",
    "X_test = X_test.drop(columns=[\"list_date\"])\n",
    "X_test = X_test.dropna(subset=[\"city_encoded\"])\n",
    "\n",
    "# Save cleaned version (optional)\n",
    "X_train.to_csv(\"../data/processed/X_train_scaled_cleaned.csv\", index=False)\n",
    "X_test.to_csv(\"../data/processed/X_test_scaled_cleaned.csv\", index=False)"
   ]
  },
  {
   "cell_type": "code",
   "execution_count": 127,
   "metadata": {},
   "outputs": [],
   "source": [
    "y_train = y_train.loc[X_train.index]\n",
    "y_test = y_test.loc[X_test.index]\n"
   ]
  },
  {
   "cell_type": "code",
   "execution_count": null,
   "metadata": {},
   "outputs": [
    {
     "name": "stdout",
     "output_type": "stream",
     "text": [
      "Series([], dtype: object)\n"
     ]
    }
   ],
   "source": [
    "print(X_train.dtypes[X_train.dtypes == \"object\"])\n",
    "#X_train\n",
    "#X_train.isna().sum()"
   ]
  },
  {
   "cell_type": "code",
   "execution_count": 129,
   "metadata": {},
   "outputs": [],
   "source": [
    "def evaluate_model(model, X_test, y_test):\n",
    "    preds = model.predict(X_test)\n",
    "    rmse = mean_squared_error(y_test, preds, squared=False)\n",
    "    mae = mean_absolute_error(y_test, preds)\n",
    "    r2 = r2_score(y_test, preds)\n",
    "    return {\"RMSE\": rmse, \"MAE\": mae, \"R2\": r2}\n"
   ]
  },
  {
   "cell_type": "code",
   "execution_count": 130,
   "metadata": {},
   "outputs": [],
   "source": [
    "models = {\n",
    "    \"Linear Regression\": LinearRegression(),\n",
    "    \"Support Vector Regressor\": SVR(),\n",
    "    \"Random Forest\": RandomForestRegressor(random_state=41),\n",
    "    \"XGBoost\": XGBRegressor(random_state=41)\n",
    "}\n",
    "\n",
    "results = {}\n",
    "\n",
    "for name, model in models.items():\n",
    "    model.fit(X_train, y_train)\n",
    "    results[name] = evaluate_model(model, X_test, y_test)\n"
   ]
  },
  {
   "cell_type": "code",
   "execution_count": 132,
   "metadata": {},
   "outputs": [
    {
     "name": "stdout",
     "output_type": "stream",
     "text": [
      "                                   RMSE            MAE        R2\n",
      "XGBoost                    71066.752811   33205.092521  0.931205\n",
      "Random Forest              86408.857850   28173.138858  0.898295\n",
      "Linear Regression         170553.613213  109095.155286  0.603769\n",
      "Support Vector Regressor  275198.974802  186455.771427 -0.031622\n"
     ]
    }
   ],
   "source": [
    "results_df = pd.DataFrame(results).T  # Transpose so models are rows\n",
    "print(results_df.sort_values(\"RMSE\"))  # Sort by RMSE (best to worst)"
   ]
  },
  {
   "cell_type": "code",
   "execution_count": null,
   "metadata": {},
   "outputs": [],
   "source": []
  },
  {
   "cell_type": "markdown",
   "metadata": {},
   "source": [
    "Consider what metrics you want to use to evaluate success.\n",
    "- If you think about mean squared error, can we actually relate to the amount of error?\n",
    "- Try root mean squared error so that error is closer to the original units (dollars)\n",
    "- What does RMSE do to outliers?\n",
    "- Is mean absolute error a good metric for this problem?\n",
    "- What about R^2? Adjusted R^2?\n",
    "- Briefly describe your reasons for picking the metrics you use"
   ]
  },
  {
   "cell_type": "code",
   "execution_count": null,
   "metadata": {},
   "outputs": [],
   "source": [
    "# gather evaluation metrics and compare results"
   ]
  },
  {
   "cell_type": "markdown",
   "metadata": {},
   "source": [
    "## Feature Selection - STRETCH\n",
    "\n",
    "> **This step doesn't need to be part of your Minimum Viable Product (MVP), but its recommended you complete it if you have time!**\n",
    "\n",
    "Even with all the preprocessing we did in Notebook 1, you probably still have a lot of features. Are they all important for prediction?\n",
    "\n",
    "Investigate some feature selection algorithms (Lasso, RFE, Forward/Backward Selection)\n",
    "- Perform feature selection to get a reduced subset of your original features\n",
    "- Refit your models with this reduced dimensionality - how does performance change on your chosen metrics?\n",
    "- Based on this, should you include feature selection in your final pipeline? Explain\n",
    "\n",
    "Remember, feature selection often doesn't directly improve performance, but if performance remains the same, a simpler model is often preferrable. \n",
    "\n"
   ]
  },
  {
   "cell_type": "code",
   "execution_count": null,
   "metadata": {},
   "outputs": [],
   "source": [
    "# perform feature selection \n",
    "# refit models\n",
    "# gather evaluation metrics and compare to the previous step (full feature set)"
   ]
  },
  {
   "cell_type": "markdown",
   "metadata": {},
   "source": []
  }
 ],
 "metadata": {
  "kernelspec": {
   "display_name": "base",
   "language": "python",
   "name": "python3"
  },
  "language_info": {
   "codemirror_mode": {
    "name": "ipython",
    "version": 3
   },
   "file_extension": ".py",
   "mimetype": "text/x-python",
   "name": "python",
   "nbconvert_exporter": "python",
   "pygments_lexer": "ipython3",
   "version": "3.9.13"
  }
 },
 "nbformat": 4,
 "nbformat_minor": 2
}
